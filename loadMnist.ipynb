{
  "nbformat": 4,
  "nbformat_minor": 0,
  "metadata": {
    "colab": {
      "name": "loadMnist.ipynb",
      "provenance": [],
      "collapsed_sections": [],
      "authorship_tag": "ABX9TyNa21RLEIUMiFeXMg56I70w",
      "include_colab_link": true
    },
    "kernelspec": {
      "name": "python3",
      "display_name": "Python 3"
    },
    "language_info": {
      "name": "python"
    }
  },
  "cells": [
    {
      "cell_type": "markdown",
      "metadata": {
        "id": "view-in-github",
        "colab_type": "text"
      },
      "source": [
        "<a href=\"https://colab.research.google.com/github/mamoor2019/AI/blob/main/loadMnist.ipynb\" target=\"_parent\"><img src=\"https://colab.research.google.com/assets/colab-badge.svg\" alt=\"Open In Colab\"/></a>"
      ]
    },
    {
      "cell_type": "code",
      "metadata": {
        "id": "ngdd-8weYnBW"
      },
      "source": [
        ""
      ],
      "execution_count": null,
      "outputs": []
    },
    {
      "cell_type": "code",
      "metadata": {
        "colab": {
          "base_uri": "https://localhost:8080/"
        },
        "id": "imRuZ9ngYrjk",
        "outputId": "8bf49c48-52e3-43f4-8b44-736b2fe31731"
      },
      "source": [
        "from tensorflow.keras.datasets import mnist\n",
        "(train_images,train_labels),(test_images,test_labels)=mnist.load_data()\n",
        "\n",
        "train_images.shape\n",
        "len(train_labels)\n",
        "train_labels\n",
        "\n",
        "test_images.shape\n",
        "len(test_labels)\n",
        "test_labels\n",
        "\n",
        "from tensorflow import keras\n",
        "from tensorflow.keras import layers\n",
        "model=keras.Sequential([\n",
        "                       layers.Dense(512,activation=\"relu\"),\n",
        "                       layers.Dense(10,activation=\"softmax\")\n",
        "])\n",
        "\n",
        "model.compile(optimizer='rmsprop',\n",
        "              loss='sparse_categorical_crossentropy',\n",
        "              metrics=['accuracy'])\n",
        "\n",
        "train_images=train_images.reshape((60000,28*28))\n",
        "train_images=train_images.astype('float32')/255\n",
        "test_images=test_images.reshape((10000,28*28))\n",
        "test_images=test_images.astype('float32')/255\n",
        "\n",
        "from tensorflow.keras.utils import to_categorical\n",
        "#train_labels=to_categorical(train_labels)\n",
        "#test_labels=to_categorical(test_labels)\n",
        "\n",
        "model.fit(train_images,train_labels,epochs=5,batch_size=128)\n",
        "\n",
        "test_digits=test_images[0:10]\n",
        "predictions=model.predict(test_digits)\n",
        "print(predictions[0])\n",
        "print(predictions[0].argmax())\n",
        "print(predictions[0][7])\n",
        "print(test_labels[0])\n",
        "\n",
        "test_loss,test_acc=model.evaluate(test_images,test_labels)\n",
        "print(f\"test_acc:{test_acc}\")"
      ],
      "execution_count": 20,
      "outputs": [
        {
          "output_type": "stream",
          "name": "stdout",
          "text": [
            "Epoch 1/5\n",
            "469/469 [==============================] - 5s 10ms/step - loss: 0.2610 - accuracy: 0.9240\n",
            "Epoch 2/5\n",
            "469/469 [==============================] - 5s 10ms/step - loss: 0.1031 - accuracy: 0.9692\n",
            "Epoch 3/5\n",
            "469/469 [==============================] - 5s 10ms/step - loss: 0.0670 - accuracy: 0.9797\n",
            "Epoch 4/5\n",
            "469/469 [==============================] - 5s 10ms/step - loss: 0.0488 - accuracy: 0.9853\n",
            "Epoch 5/5\n",
            "469/469 [==============================] - 5s 10ms/step - loss: 0.0361 - accuracy: 0.9888\n",
            "[2.6706692e-09 1.8793231e-09 1.6699050e-05 5.7017937e-04 7.1158405e-12\n",
            " 1.7549807e-07 6.1087779e-14 9.9939704e-01 1.0338392e-07 1.5826863e-05]\n",
            "7\n",
            "0.99939704\n",
            "7\n",
            "313/313 [==============================] - 1s 2ms/step - loss: 0.0658 - accuracy: 0.9798\n",
            "test_acc:0.9797999858856201\n"
          ]
        }
      ]
    }
  ]
}
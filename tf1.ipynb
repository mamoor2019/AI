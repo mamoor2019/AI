{
  "nbformat": 4,
  "nbformat_minor": 0,
  "metadata": {
    "colab": {
      "name": "tf1.ipynb",
      "provenance": [],
      "collapsed_sections": [],
      "toc_visible": true,
      "authorship_tag": "ABX9TyMHXsztYQXi+SpGJyfQvOQF",
      "include_colab_link": true
    },
    "kernelspec": {
      "name": "python3",
      "display_name": "Python 3"
    },
    "language_info": {
      "name": "python"
    }
  },
  "cells": [
    {
      "cell_type": "markdown",
      "metadata": {
        "id": "view-in-github",
        "colab_type": "text"
      },
      "source": [
        "<a href=\"https://colab.research.google.com/github/mamoor2019/AI/blob/main/tf1.ipynb\" target=\"_parent\"><img src=\"https://colab.research.google.com/assets/colab-badge.svg\" alt=\"Open In Colab\"/></a>"
      ]
    },
    {
      "cell_type": "code",
      "metadata": {
        "id": "R0w7FWUjA6cG"
      },
      "source": [
        ""
      ],
      "execution_count": null,
      "outputs": []
    },
    {
      "cell_type": "code",
      "metadata": {
        "colab": {
          "base_uri": "https://localhost:8080/"
        },
        "id": "EE4GkNpXA9On",
        "outputId": "91508b71-6f41-431c-f779-c065bb28b399"
      },
      "source": [
        "import tensorflow as tf\n",
        "\n",
        "r1 = tf.constant(1, tf.int16) \n",
        "print(r1)\n",
        "\n",
        "r2 = tf.constant(1, tf.int16, name = \"my_scalar\") \n",
        "print(r2)\t\n",
        "\n",
        "# Decimal\n",
        "r1_decimal = tf.constant(1.12345, tf.float32)\n",
        "print(r1_decimal)\n",
        "# String\n",
        "r1_string = tf.constant(\"Guru99\", tf.string)\n",
        "print(r1_string)\t\n",
        "\n",
        "#\n",
        "r1_vector = tf.constant([1,3,5], tf.int16)\n",
        "print(r1_vector)\n",
        "r2_boolean = tf.constant([True, True, False], tf.bool)\n",
        "print(r2_boolean)\t\t\n",
        "\n",
        "## Rank 2\n",
        "r2_matrix = tf.constant([ [1, 2],\n",
        "                          [3, 4] ],tf.int16)\n",
        "print(r2_matrix)\n",
        "\n",
        "r3_matrix = tf.constant([ [[1, 2],\n",
        "                           [3, 4], \n",
        "                           [5, 6]] ], tf.int16)\n",
        "print(r3_matrix)\t\t\n",
        "print(tf.ones([10, 10]))\t"
      ],
      "execution_count": 2,
      "outputs": [
        {
          "output_type": "stream",
          "text": [
            "tf.Tensor(1, shape=(), dtype=int16)\n",
            "tf.Tensor(1, shape=(), dtype=int16)\n",
            "tf.Tensor(1.12345, shape=(), dtype=float32)\n",
            "tf.Tensor(b'Guru99', shape=(), dtype=string)\n",
            "tf.Tensor([1 3 5], shape=(3,), dtype=int16)\n",
            "tf.Tensor([ True  True False], shape=(3,), dtype=bool)\n",
            "tf.Tensor(\n",
            "[[1 2]\n",
            " [3 4]], shape=(2, 2), dtype=int16)\n",
            "tf.Tensor(\n",
            "[[[1 2]\n",
            "  [3 4]\n",
            "  [5 6]]], shape=(1, 3, 2), dtype=int16)\n",
            "tf.Tensor(\n",
            "[[1. 1. 1. 1. 1. 1. 1. 1. 1. 1.]\n",
            " [1. 1. 1. 1. 1. 1. 1. 1. 1. 1.]\n",
            " [1. 1. 1. 1. 1. 1. 1. 1. 1. 1.]\n",
            " [1. 1. 1. 1. 1. 1. 1. 1. 1. 1.]\n",
            " [1. 1. 1. 1. 1. 1. 1. 1. 1. 1.]\n",
            " [1. 1. 1. 1. 1. 1. 1. 1. 1. 1.]\n",
            " [1. 1. 1. 1. 1. 1. 1. 1. 1. 1.]\n",
            " [1. 1. 1. 1. 1. 1. 1. 1. 1. 1.]\n",
            " [1. 1. 1. 1. 1. 1. 1. 1. 1. 1.]\n",
            " [1. 1. 1. 1. 1. 1. 1. 1. 1. 1.]], shape=(10, 10), dtype=float32)\n"
          ],
          "name": "stdout"
        }
      ]
    },
    {
      "cell_type": "markdown",
      "metadata": {
        "id": "GEMbe4KvxF3S"
      },
      "source": [
        "# New Section"
      ]
    }
  ]
}
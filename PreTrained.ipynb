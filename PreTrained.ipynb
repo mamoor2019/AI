{
  "nbformat": 4,
  "nbformat_minor": 0,
  "metadata": {
    "colab": {
      "name": "PreTrained.ipynb",
      "provenance": [],
      "collapsed_sections": [],
      "authorship_tag": "ABX9TyOco+wfzagmvOz1R3Ew+bYj",
      "include_colab_link": true
    },
    "kernelspec": {
      "name": "python3",
      "display_name": "Python 3"
    },
    "language_info": {
      "name": "python"
    }
  },
  "cells": [
    {
      "cell_type": "markdown",
      "metadata": {
        "id": "view-in-github",
        "colab_type": "text"
      },
      "source": [
        "<a href=\"https://colab.research.google.com/github/mamoor2019/AI/blob/main/PreTrained.ipynb\" target=\"_parent\"><img src=\"https://colab.research.google.com/assets/colab-badge.svg\" alt=\"Open In Colab\"/></a>"
      ]
    },
    {
      "cell_type": "code",
      "metadata": {
        "id": "QkURpNgNVVB1"
      },
      "source": [
        ""
      ],
      "execution_count": null,
      "outputs": []
    },
    {
      "cell_type": "code",
      "metadata": {
        "colab": {
          "base_uri": "https://localhost:8080/"
        },
        "id": "QgTxxOwvVcqY",
        "outputId": "b1440cfc-adf0-4cef-9ea6-0ab6d6fa9e68"
      },
      "source": [
        "from tensorflow.keras.applications.inception_v3 import InceptionV3\n",
        "import urllib.request\n",
        "\n",
        "weights_url=\"https://storage.googleapis.com/mledu-datasets/inception_v3_weights_tf_dim_ordering_tf_kernels_notop.h5\"\n",
        "\n",
        "weights_file=\"inception_v3.h5\"\n",
        "urllib.request.urlretrieve(weights_url,weights_file)\n",
        "\n",
        "pre_trained_model=InceptionV3(input_shape=(150,150,3),include_top=False,weights=None)\n",
        "pre_trained_model.load_weights(weights_file)\n",
        "\n",
        "#pre_trained_model.summary()\n",
        "for layer in pre_trained_model.layers:\n",
        "  layer.trainable=False\n",
        "\n",
        "last_layer=pre_trained_model.get_layer('mixed7')\n",
        "print('last layer output shape: ',last_layer.output_shape)\n",
        "last_output=last_layer.output"
      ],
      "execution_count": 5,
      "outputs": [
        {
          "output_type": "stream",
          "name": "stdout",
          "text": [
            "last layer output shape:  (None, 7, 7, 768)\n"
          ]
        }
      ]
    }
  ]
}